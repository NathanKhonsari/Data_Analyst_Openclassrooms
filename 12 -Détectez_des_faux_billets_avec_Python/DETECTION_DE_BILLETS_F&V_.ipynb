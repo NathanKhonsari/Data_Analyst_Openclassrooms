{
 "cells": [
  {
   "cell_type": "markdown",
   "id": "2f240d46-b25c-4180-abc2-46a0e30df89c",
   "metadata": {},
   "source": [
    "<div style=\"background-color:orange; color:white; text-align:center; padding:10px; border-radius:5px;\">\n",
    "    <h1>Détectez des faux billets avec R ou Python</h1>\n",
    "</div>\n",
    "\n",
    "# OBJECTIF DE CE NOTEBOOK\n",
    "\n",
    "Ce notebook est un détecteur de billets, il analyse à partir d'un modele choisi et d'un fichier csv quels sont les billets vrais des billets faux\n",
    "\n",
    "Mission : Nous sommes consultant *Data Analyst*, Votre entreprise vient de décrocher un contrat avec l’Organisation nationale de lutte contre le faux-monnayage (ONCFM) et elle souhaite vous y envoyer en tant que senior data analyst pour cette mission.Pour aller plus vite dans cette lutte, nous souhaitons mettre à disposition des équipes une application de machine learning. Celle-ci leur permettra, après avoir scanné des billets (longueur, hauteur, largeur, etc.), de faire une prédiction sur la nature des billets (vrai billet ou faux billet)."
   ]
  },
  {
   "cell_type": "markdown",
   "id": "81e99b45-8214-4361-9275-dd2bdc2cb462",
   "metadata": {},
   "source": [
    "<div style=\"background-color:orange; color:white; text-align:center; padding:10px; border-radius:5px;\">\n",
    "<h2 style=\"margin: auto; padding: 20px; color:#fff; \">Importation des librairies, chargements et Réorganisation de l'algorithme</h2>\n",
    "</div>"
   ]
  },
  {
   "cell_type": "code",
   "execution_count": 37,
   "id": "003c7214-6c0b-420f-942c-aef541b25a81",
   "metadata": {},
   "outputs": [],
   "source": [
    "import pandas as pd\n",
    "import numpy as np\n",
    "from pathlib import Path\n",
    "import joblib"
   ]
  },
  {
   "cell_type": "markdown",
   "id": "452334ff-4956-43bf-8265-573eec1d9b59",
   "metadata": {},
   "source": [
    "<div style=\"background-color: RGB(51,165,182);\" >\n",
    "<h3 style=\"margin: auto; padding: 20px; color:#fff; \">Importation du modèle</h3>\n",
    "</div>"
   ]
  },
  {
   "cell_type": "code",
   "execution_count": 40,
   "id": "a0292c6f-b3ec-45bc-a633-fa820a881b01",
   "metadata": {},
   "outputs": [
    {
     "name": "stdout",
     "output_type": "stream",
     "text": [
      "Modèle chargé avec succès.\n"
     ]
    }
   ],
   "source": [
    "# Chargement du modèle complet\n",
    "model_folder = Path(r'C:\\Users\\Public\\algorithme') \n",
    "model_file = 'Detections_Billets.joblib' \n",
    "model_path = model_folder / model_file\n",
    "\n",
    "if not model_folder.is_dir():\n",
    "    raise FileNotFoundError(f'Le dossier {model_folder} n\\'existe pas.')\n",
    "elif not model_path.is_file():\n",
    "    raise FileNotFoundError(f'Le fichier {model_file} est manquant.')\n",
    "else:\n",
    "    std_scale, pca, regression = joblib.load(model_path)\n",
    "    print('Modèle chargé avec succès.')"
   ]
  },
  {
   "cell_type": "markdown",
   "id": "ce4ffbed-d06c-4bc0-b748-365fb514659f",
   "metadata": {},
   "source": [
    "<div style=\"background-color: RGB(51,165,182);\" >\n",
    "<h3 style=\"margin: auto; padding: 20px; color:#fff; \">Choix du fichier à analyser</h3>\n",
    "</div>"
   ]
  },
  {
   "cell_type": "code",
   "execution_count": 43,
   "id": "5d0eb3b9-ce10-4872-9976-0810ab22fab4",
   "metadata": {},
   "outputs": [],
   "source": [
    "# Chargement du fichier CSV de test\n",
    "data_folder = Path(r'C:\\Users\\Public\\algorithme\\dataframe')\n",
    "csv_files = [x for x in data_folder.glob('*.csv') if x.is_file()]\n",
    "\n",
    "if not csv_files:\n",
    "    raise FileNotFoundError(f'Aucun fichier CSV trouvé dans {data_folder}')\n",
    "    \n",
    "df = pd.read_csv(csv_files[0])"
   ]
  },
  {
   "cell_type": "markdown",
   "id": "dec604cb-e0a7-49bb-b237-551a8f056be3",
   "metadata": {},
   "source": [
    "<div style=\"background-color: RGB(51,165,182);\" >\n",
    "<h3 style=\"margin: auto; padding: 20px; color:#fff; \">Vérification des données et détection</h3>\n",
    "</div>"
   ]
  },
  {
   "cell_type": "code",
   "execution_count": 46,
   "id": "f1fb2e34-247e-4884-8ddc-accc24874f86",
   "metadata": {},
   "outputs": [],
   "source": [
    "# Vérification des colonnes attendues\n",
    "features = ['diagonal', 'height_left', 'height_right', 'margin_low', 'margin_up', 'length', 'id']\n",
    "missing_features = set(features) - set(df.columns)\n",
    "if missing_features:\n",
    "    raise Exception(f'Variables manquantes : {missing_features}')\n",
    "if df.isna().any().any():\n",
    "    raise Exception(f'Valeurs manquantes dans : {df.columns[df.isna().any()].to_list()}')\n",
    "\n",
    "# Séparation des colonnes explicatives\n",
    "X = df[[\n",
    "    'diagonal', 'height_left', 'height_right',\n",
    "    'margin_low', 'margin_up', 'length'\n",
    "]]\n",
    "ids = df['id']\n",
    "\n",
    "# Standardisation avec conservation des noms de colonnes\n",
    "X_scaled = std_scale.transform(X)\n",
    "X_scaled = pd.DataFrame(X_scaled, columns=X.columns)\n",
    "\n",
    "# Prédictions\n",
    "proba_genuine = regression.predict_proba(X_scaled)[:, 1]\n",
    "is_genuine = proba_genuine > 0.5"
   ]
  },
  {
   "cell_type": "markdown",
   "id": "c4147a82-07cc-41f1-8945-2c45362ffc59",
   "metadata": {},
   "source": [
    "<div style=\"background-color: RGB(51,165,182);\" >\n",
    "<h3 style=\"margin: auto; padding: 20px; color:#fff; \">Affichage des résultats</h3>\n",
    "</div>"
   ]
  },
  {
   "cell_type": "code",
   "execution_count": 49,
   "id": "ffdc8037-0b5b-4e54-aebe-42234eecbe66",
   "metadata": {},
   "outputs": [
    {
     "name": "stdout",
     "output_type": "stream",
     "text": [
      "Résultats :\n",
      "\n",
      "Le billet ref. B_1 est un vrai billet.\n",
      "Le billet ref. B_2 est un faux billet.\n",
      "Le billet ref. B_3 est un vrai billet.\n",
      "Le billet ref. B_4 est un faux billet.\n",
      "Le billet ref. B_5 est un faux billet.\n",
      "\n",
      "Détails de la détection :\n",
      "\n",
      "   diagonal  height_left  height_right  margin_low  margin_up  length   id  \\\n",
      "0    172.09       103.95        103.73        4.39       3.09  113.19  B_1   \n",
      "1    171.52       104.17        104.03        5.27       3.16  111.82  B_2   \n",
      "2    171.78       103.80        103.75        3.81       3.24  113.39  B_3   \n",
      "3    172.02       104.08        103.99        5.57       3.30  111.10  B_4   \n",
      "4    171.79       104.34        104.37        5.00       3.07  111.87  B_5   \n",
      "\n",
      "   proba_genuine  is_genuine  \n",
      "0       0.995398        True  \n",
      "1       0.005816       False  \n",
      "2       0.999363        True  \n",
      "3       0.000079       False  \n",
      "4       0.010885       False  \n"
     ]
    }
   ],
   "source": [
    "# Création d'un DataFrame de résultats sans modifier df\n",
    "results = df.copy()\n",
    "results['proba_genuine'] = proba_genuine\n",
    "results['is_genuine'] = is_genuine\n",
    "\n",
    "# Réorganisation des colonnes\n",
    "results = results[[\n",
    "    'diagonal', 'height_left', 'height_right',\n",
    "    'margin_low', 'margin_up', 'length',\n",
    "    'id', 'proba_genuine', 'is_genuine'\n",
    "]]\n",
    "\n",
    "# Affichage des résultats individuels\n",
    "print(\"Résultats :\\n\")\n",
    "for is_real, id_ in zip(results[\"is_genuine\"], results[\"id\"]):\n",
    "    if is_real:\n",
    "        print(f\"Le billet ref. {id_} est un vrai billet.\")\n",
    "    else:\n",
    "        print(f\"Le billet ref. {id_} est un faux billet.\")\n",
    "\n",
    "# Optionnel : affichage du tableau final\n",
    "print(\"\\nDétails de la détection :\\n\")\n",
    "print(results)\n"
   ]
  },
  {
   "cell_type": "code",
   "execution_count": null,
   "id": "3966aa59-dd33-4928-bd94-ccdd415645ee",
   "metadata": {},
   "outputs": [],
   "source": []
  }
 ],
 "metadata": {
  "kernelspec": {
   "display_name": "Python [conda env:base] *",
   "language": "python",
   "name": "conda-base-py"
  },
  "language_info": {
   "codemirror_mode": {
    "name": "ipython",
    "version": 3
   },
   "file_extension": ".py",
   "mimetype": "text/x-python",
   "name": "python",
   "nbconvert_exporter": "python",
   "pygments_lexer": "ipython3",
   "version": "3.12.3"
  }
 },
 "nbformat": 4,
 "nbformat_minor": 5
}
